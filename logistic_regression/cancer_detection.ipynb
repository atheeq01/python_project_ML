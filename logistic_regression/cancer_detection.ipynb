{
 "cells": [
  {
   "metadata": {
    "ExecuteTime": {
     "end_time": "2025-09-22T14:19:44.207204Z",
     "start_time": "2025-09-22T14:19:43.476610Z"
    }
   },
   "cell_type": "code",
   "source": [
    "import kagglehub\n",
    "\n",
    "path = kagglehub.dataset_download(\"uciml/breast-cancer-wisconsin-data\")\n",
    "\n",
    "print(\"Path to dataset files:\", path)"
   ],
   "id": "8829389f2818e5db",
   "outputs": [
    {
     "name": "stdout",
     "output_type": "stream",
     "text": [
      "Path to dataset files: /home/breezy/.cache/kagglehub/datasets/uciml/breast-cancer-wisconsin-data/versions/2\n"
     ]
    }
   ],
   "execution_count": 18
  },
  {
   "metadata": {
    "ExecuteTime": {
     "end_time": "2025-09-22T14:19:44.215540Z",
     "start_time": "2025-09-22T14:19:44.212662Z"
    }
   },
   "cell_type": "code",
   "source": [
    "import os\n",
    "import shutil\n",
    "\n",
    "assets_path = os.path.join(os.getcwd(), \"assets\")\n",
    "\n",
    "for item in os.listdir(path):\n",
    "    source_files = os.path.join(path, item)\n",
    "    destination_file = os.path.join(assets_path, item)\n",
    "    if os.path.isdir(source_files):\n",
    "        shutil.copytree(source_files, destination_file,dirs_exist_ok=True)\n",
    "    else:\n",
    "        shutil.copy(source_files, destination_file)"
   ],
   "id": "c52e2d1583180571",
   "outputs": [],
   "execution_count": 19
  },
  {
   "metadata": {},
   "cell_type": "code",
   "outputs": [],
   "execution_count": null,
   "source": "",
   "id": "403358a43364d395"
  }
 ],
 "metadata": {
  "kernelspec": {
   "display_name": "Python 3",
   "language": "python",
   "name": "python3"
  },
  "language_info": {
   "codemirror_mode": {
    "name": "ipython",
    "version": 2
   },
   "file_extension": ".py",
   "mimetype": "text/x-python",
   "name": "python",
   "nbconvert_exporter": "python",
   "pygments_lexer": "ipython2",
   "version": "2.7.6"
  }
 },
 "nbformat": 4,
 "nbformat_minor": 5
}
