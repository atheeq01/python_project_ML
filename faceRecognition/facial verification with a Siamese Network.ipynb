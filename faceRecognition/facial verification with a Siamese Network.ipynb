{
 "cells": [
  {
   "metadata": {},
   "cell_type": "markdown",
   "source": "# 1. setup",
   "id": "c4eb746b9b88712e"
  },
  {
   "metadata": {},
   "cell_type": "markdown",
   "source": "### 1.1 install dependencies (opencv,matplotlib,tensorflow,tensorflow[\"cuda\"])",
   "id": "206b6580df7ae2e9"
  },
  {
   "cell_type": "code",
   "id": "initial_id",
   "metadata": {
    "collapsed": true,
    "ExecuteTime": {
     "end_time": "2025-09-24T13:56:54.403119Z",
     "start_time": "2025-09-24T13:56:54.397254Z"
    }
   },
   "source": [
    "import tensorflow as tf\n",
    "\n",
    "# Check TensorFlow version\n",
    "print(\"TensorFlow version:\", tf.__version__)\n",
    "\n",
    "# Check if GPU is available\n",
    "gpus = tf.config.list_physical_devices('GPU')\n",
    "\n",
    "if gpus:\n",
    "    name = tf.config.experimental.get_device_details(gpus[0]).get(\"device_name\", \"Unknown\")\n",
    "    print(\"CUDA available: True\")\n",
    "    print(\"GPU Name:\", name)\n",
    "else:\n",
    "    print(\"CUDA available: False\")\n",
    "    print(\"GPU: No GPU\")\n"
   ],
   "outputs": [
    {
     "name": "stdout",
     "output_type": "stream",
     "text": [
      "TensorFlow version: 2.20.0\n",
      "CUDA available: True\n",
      "GPU Name: NVIDIA GeForce RTX 3050 Laptop GPU\n"
     ]
    }
   ],
   "execution_count": 3
  },
  {
   "metadata": {},
   "cell_type": "markdown",
   "source": "### 1.2 Import Dependencies",
   "id": "2bc753610cce9093"
  },
  {
   "metadata": {
    "ExecuteTime": {
     "end_time": "2025-09-24T14:01:19.558468Z",
     "start_time": "2025-09-24T14:01:19.444329Z"
    }
   },
   "cell_type": "code",
   "source": [
    "# import standard dependencies\n",
    "import cv2\n",
    "import os\n",
    "import random\n",
    "import numpy as np\n",
    "import matplotlib.pyplot as plt"
   ],
   "id": "3e08dd27bed770ff",
   "outputs": [],
   "execution_count": 4
  },
  {
   "metadata": {},
   "cell_type": "code",
   "outputs": [],
   "execution_count": null,
   "source": [
    "# import tensorflow dependencies - Functional API\n",
    "from tensorflow.keras.models import Model # Model(input = [inputImage,verificationImage],output = [1,0])\n",
    "from tensorflow.keras.layers import Layer, Conv2D, MaxPooling2D, Flatten, Dense, Input\n",
    "import tensorflow as tf"
   ],
   "id": "be66629fdc6d900e"
  },
  {
   "metadata": {},
   "cell_type": "markdown",
   "source": [
    "### 📦 TensorFlow / Keras Functional API Components\n",
    "\n",
    "* **`tensorflow`** → Open-source deep learning framework for building and training neural networks.\n",
    "* **`tensorflow.keras`** → High-level API inside TensorFlow that simplifies building models.\n",
    "\n",
    "---\n",
    "\n",
    "### 🏗️ Model Building\n",
    "\n",
    "* **`Model`** → Used in the **Functional API** to define a model by specifying inputs and outputs (`Model(inputs, outputs)`).\n",
    "* **`Layer`** → Base class for all layers in Keras; custom layers can be built by inheriting from this.\n",
    "* **`Input`** → Defines the **input placeholder** (shape, dtype) for building models in the Functional API.\n",
    "\n",
    "---\n",
    "\n",
    "### 🔑 Common Layers\n",
    "\n",
    "* **`Conv2D`** → Convolutional layer for extracting spatial features (edges, textures, shapes) from images.\n",
    "* **`MaxPooling2D`** → Downsamples the feature map by taking the maximum value in each window → reduces size but keeps important info.\n",
    "* **`Flatten`** → Converts multi-dimensional feature maps into a **1D vector** (needed before Dense layers).\n",
    "* **`Dense`** → Fully connected layer where each neuron connects to all neurons in the previous layer.\n",
    "\n",
    "---\n",
    "\n",
    "### 💡 Example Flow\n",
    "\n",
    "`Input` → `Conv2D` → `MaxPooling2D` → `Flatten` → `Dense` → `Model(inputs, outputs)`\n"
   ],
   "id": "26a3ea916ba8a274"
  },
  {
   "metadata": {},
   "cell_type": "markdown",
   "source": [
    "## Layers\n",
    "\n",
    "* **\"Layer\"** → Like a stage in an assembly line. Each stage transforms the input a little.\n",
    "For example: raw metal → shaped car body → painted body → assembled car.\n",
    "\n",
    "* **\"Conv2D (Convolution Layer)\"** → Imagine a magnifying glass sliding over an image, detecting patterns like edges, shapes, or colors. For example, when you see a cat, you first notice whiskers, ears, fur patterns. Conv2D does this pattern-finding automatically.\n",
    "\n",
    "* **\"MaxPooling2D\"** → Like shrinking a photo but keeping only the most important parts. For example, if you take a big group photo and zoom out, you can’t see fine details, but you can still recognize faces. MaxPooling helps the model focus on the main features while reducing size.\n",
    "\n",
    "* **\"Flatten\"** → Imagine turning a page of Lego blocks into a single row of blocks. It just reshapes data into a line so it can be processed further. For example, a 2D grid of pixels (like a photo) becomes a 1D list.\n",
    "\n",
    "* **\"Dense (Fully Connected Layer)\"** → Like the decision-making brain. Every neuron here connects to every other neuron, combining all the extracted features. For example, after noticing “whiskers + ears + fur,” the Dense layer decides: “Yes, this is a Cat.”"
   ],
   "id": "3a896f9e84d5b3a8"
  },
  {
   "metadata": {},
   "cell_type": "markdown",
   "source": "### 1.3 Set GPU Growth",
   "id": "76dbf5d0877330f4"
  },
  {
   "metadata": {
    "ExecuteTime": {
     "end_time": "2025-09-24T15:44:10.483352Z",
     "start_time": "2025-09-24T15:44:10.481091Z"
    }
   },
   "cell_type": "code",
   "source": [
    "# avoid OOM errors by setting GPU Memory Consumption Growth\n",
    "# Check if GPU is available - List all gpus\n",
    "gpus = tf.config.list_physical_devices('GPU')\n",
    "for gpu in gpus:\n",
    "    tf.config.experimental.set_memory_growth(gpu, True)"
   ],
   "id": "e0bfd67bcbb9f811",
   "outputs": [],
   "execution_count": 6
  },
  {
   "metadata": {},
   "cell_type": "markdown",
   "source": "### 1.4 Create Folder Structures",
   "id": "75774094110ee77a"
  },
  {
   "metadata": {
    "ExecuteTime": {
     "end_time": "2025-09-24T15:48:31.582133Z",
     "start_time": "2025-09-24T15:48:31.579634Z"
    }
   },
   "cell_type": "code",
   "source": [
    "# Setup Paths\n",
    "POS_PATH = os.path.join(\"data\",\"positive\")\n",
    "NEG_PATH = os.path.join(\"data\",\"negative\")\n",
    "ANC_PATH = os.path.join(\"data\",\"anchor\")"
   ],
   "id": "4727d7c44494c271",
   "outputs": [],
   "execution_count": 7
  },
  {
   "metadata": {
    "ExecuteTime": {
     "end_time": "2025-09-24T15:51:33.663091Z",
     "start_time": "2025-09-24T15:51:33.660282Z"
    }
   },
   "cell_type": "code",
   "source": [
    "# Make the Directories\n",
    "os.makedirs(POS_PATH, exist_ok=True)\n",
    "os.makedirs(NEG_PATH, exist_ok=True)\n",
    "os.makedirs(ANC_PATH, exist_ok=True)"
   ],
   "id": "1108211dd9c888ad",
   "outputs": [],
   "execution_count": 8
  },
  {
   "metadata": {},
   "cell_type": "markdown",
   "source": [
    "### Python Directory Creation: os.mkdir() vs os.makedirs()\n",
    "\n",
    "#### Quick Comparison\n",
    "\n",
    "| Function | Use Case | Parent Directory Requirement | Error Handling |\n",
    "|----------|----------|------------------------------|----------------|\n",
    "| `os.mkdir()` | Single directory creation | Must exist | Fails if parents missing |\n",
    "| `os.makedirs()` | Nested directory creation | Created automatically | `exist_ok=True` for safety |\n",
    "\n",
    "\n",
    "#### Key Points\n",
    "- **mkdir()**: Simple, single directory, parents must exist\n",
    "- **makedirs()**: Complex paths, creates parents automatically\n",
    "- **exist_ok=True**: Prevents errors if directory exists (makedirs only)"
   ],
   "id": "e7820e49d02e0183"
  },
  {
   "metadata": {},
   "cell_type": "code",
   "outputs": [],
   "execution_count": null,
   "source": "",
   "id": "6ee2306466362c74"
  }
 ],
 "metadata": {
  "kernelspec": {
   "display_name": "Python 3",
   "language": "python",
   "name": "python3"
  },
  "language_info": {
   "codemirror_mode": {
    "name": "ipython",
    "version": 2
   },
   "file_extension": ".py",
   "mimetype": "text/x-python",
   "name": "python",
   "nbconvert_exporter": "python",
   "pygments_lexer": "ipython2",
   "version": "2.7.6"
  }
 },
 "nbformat": 4,
 "nbformat_minor": 5
}
