{
 "cells": [
  {
   "metadata": {},
   "cell_type": "markdown",
   "source": "# 1. setup",
   "id": "c4eb746b9b88712e"
  },
  {
   "metadata": {},
   "cell_type": "markdown",
   "source": "### 1.1 install dependencies (opencv,matplotlib,tensorflow,tensorflow[\"cuda\"])",
   "id": "206b6580df7ae2e9"
  },
  {
   "cell_type": "code",
   "id": "initial_id",
   "metadata": {
    "collapsed": true,
    "ExecuteTime": {
     "end_time": "2025-09-24T13:56:54.403119Z",
     "start_time": "2025-09-24T13:56:54.397254Z"
    }
   },
   "source": [
    "import tensorflow as tf\n",
    "\n",
    "# Check TensorFlow version\n",
    "print(\"TensorFlow version:\", tf.__version__)\n",
    "\n",
    "# Check if GPU is available\n",
    "gpus = tf.config.list_physical_devices('GPU')\n",
    "\n",
    "if gpus:\n",
    "    name = tf.config.experimental.get_device_details(gpus[0]).get(\"device_name\", \"Unknown\")\n",
    "    print(\"CUDA available: True\")\n",
    "    print(\"GPU Name:\", name)\n",
    "else:\n",
    "    print(\"CUDA available: False\")\n",
    "    print(\"GPU: No GPU\")\n"
   ],
   "outputs": [
    {
     "name": "stdout",
     "output_type": "stream",
     "text": [
      "TensorFlow version: 2.20.0\n",
      "CUDA available: True\n",
      "GPU Name: NVIDIA GeForce RTX 3050 Laptop GPU\n"
     ]
    }
   ],
   "execution_count": 3
  },
  {
   "metadata": {},
   "cell_type": "markdown",
   "source": "### 1.2 Import Dependencies",
   "id": "2bc753610cce9093"
  },
  {
   "metadata": {
    "ExecuteTime": {
     "end_time": "2025-09-24T14:01:19.558468Z",
     "start_time": "2025-09-24T14:01:19.444329Z"
    }
   },
   "cell_type": "code",
   "source": [
    "# import standard dependencies\n",
    "import cv2\n",
    "import os\n",
    "import random\n",
    "import numpy as np\n",
    "import matplotlib.pyplot as plt"
   ],
   "id": "3e08dd27bed770ff",
   "outputs": [],
   "execution_count": 4
  },
  {
   "metadata": {},
   "cell_type": "code",
   "outputs": [],
   "execution_count": null,
   "source": "",
   "id": "be66629fdc6d900e"
  }
 ],
 "metadata": {
  "kernelspec": {
   "display_name": "Python 3",
   "language": "python",
   "name": "python3"
  },
  "language_info": {
   "codemirror_mode": {
    "name": "ipython",
    "version": 2
   },
   "file_extension": ".py",
   "mimetype": "text/x-python",
   "name": "python",
   "nbconvert_exporter": "python",
   "pygments_lexer": "ipython2",
   "version": "2.7.6"
  }
 },
 "nbformat": 4,
 "nbformat_minor": 5
}
