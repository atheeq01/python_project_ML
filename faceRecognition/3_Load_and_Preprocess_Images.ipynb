{
 "cells": [
  {
   "metadata": {},
   "cell_type": "markdown",
   "source": "# 3 . Load and Preprocess Images",
   "id": "c75d8097632131cb"
  },
  {
   "metadata": {
    "ExecuteTime": {
     "end_time": "2025-09-29T06:01:07.683926Z",
     "start_time": "2025-09-29T06:01:07.682025Z"
    }
   },
   "cell_type": "code",
   "source": [
    "import tensorflow as tf\n",
    "import numpy as np\n",
    "import matplotlib.pyplot as plt\n",
    "import cv2\n",
    "import os\n"
   ],
   "id": "e5f7f3aab812de0b",
   "outputs": [],
   "execution_count": 2
  },
  {
   "metadata": {},
   "cell_type": "code",
   "outputs": [],
   "execution_count": null,
   "source": [
    "# Setup Paths\n",
    "POS_PATH = os.path.join(\"data\", \"positive\")\n",
    "NEG_PATH = os.path.join(\"data\", \"negative\")\n",
    "ANC_PATH = os.path.join(\"data\", \"anchor\")"
   ],
   "id": "2bac0135d5570c3"
  },
  {
   "metadata": {},
   "cell_type": "markdown",
   "source": "### 3.1 get Images",
   "id": "cf9dd5b3287a78cb"
  },
  {
   "metadata": {
    "ExecuteTime": {
     "end_time": "2025-09-29T05:46:28.845533Z",
     "start_time": "2025-09-29T05:46:28.803151Z"
    }
   },
   "cell_type": "code",
   "outputs": [],
   "execution_count": 176,
   "source": [
    "anchor = tf.data.Dataset.list_files(ANC_PATH + '/*.jpg').take(300)\n",
    "positive = tf.data.Dataset.list_files(POS_PATH + \"/*.jpg\").take(300)\n",
    "negative = tf.data.Dataset.list_files(NEG_PATH + \"/*.jpg\").take(300)\n",
    "\n",
    "# but in windows use \"\\*.jpg\"\n",
    "\n",
    "# this is works on cross-platform\n",
    "# import os\n",
    "# anchor = tf.data.Dataset.list_files(os.path.join(ANC_PATH, '*.jpg')).take(300)\n"
   ],
   "id": "1616e38708faa196"
  },
  {
   "metadata": {
    "ExecuteTime": {
     "end_time": "2025-09-29T05:46:28.967631Z",
     "start_time": "2025-09-29T05:46:28.961549Z"
    }
   },
   "cell_type": "code",
   "outputs": [],
   "execution_count": 177,
   "source": "dir_test = anchor.as_numpy_iterator()",
   "id": "71971fdc527173a8"
  },
  {
   "metadata": {
    "ExecuteTime": {
     "end_time": "2025-09-29T05:46:29.137344Z",
     "start_time": "2025-09-29T05:46:29.134727Z"
    }
   },
   "cell_type": "code",
   "outputs": [
    {
     "name": "stdout",
     "output_type": "stream",
     "text": [
      "b'data/anchor/f31291df-9cd9-11f0-95f0-581122864d18.jpg'\n"
     ]
    }
   ],
   "execution_count": 178,
   "source": [
    "# give the next file in interation this is flexible\n",
    "print(dir_test.next())"
   ],
   "id": "1137ce7932a198b"
  },
  {
   "metadata": {},
   "cell_type": "markdown",
   "source": "### 3.2 Preprocessing -scale and resize",
   "id": "af4345008565289b"
  },
  {
   "metadata": {
    "ExecuteTime": {
     "end_time": "2025-09-29T05:46:31.896363Z",
     "start_time": "2025-09-29T05:46:31.894236Z"
    }
   },
   "cell_type": "code",
   "outputs": [],
   "execution_count": 179,
   "source": [
    "# creating function for preprocess\n",
    "def preprocess(file_path):\n",
    "    # Reading image from the file path\n",
    "    byte_img = tf.io.read_file(file_path)\n",
    "    # decode/load the images return unit8(int8)\n",
    "    img = tf.io.decode_jpeg(byte_img)\n",
    "    # resize the image to 100,100,3 and return the float32 type so no neet typecast\n",
    "    img = tf.image.resize(img,(100,100))\n",
    "    # divide the image by 255 because get all the value to between (0-1)\n",
    "    # this is use less because resize func is return the float32\n",
    "    # img = tf.image.convert_image_dtype(img, tf.float32)\n",
    "    img = img / 255.0\n",
    "\n",
    "    return img"
   ],
   "id": "c956c230cdb95dea"
  },
  {
   "metadata": {},
   "cell_type": "markdown",
   "source": [
    "<details>\n",
    "<summary><b>TensorFlow Image Preprocessing Function</b></summary>\n",
    "\n",
    "```python\n",
    "import tensorflow as tf\n",
    "\n",
    "def preprocess_image(image_path, img_height=224, img_width=224):\n",
    "    \"\"\"\n",
    "    Load and preprocess an image from a file path.\n",
    "\n",
    "    Parameters:\n",
    "    - image_path: string, path to the image file.\n",
    "    - img_height: int, desired height of the output image.\n",
    "    - img_width: int, desired width of the output image.\n",
    "\n",
    "    Returns:\n",
    "    - image: Tensor, preprocessed image tensor of shape (img_height, img_width, 3)\n",
    "             with pixel values normalized to [0, 1].\n",
    "    \"\"\"\n",
    "\n",
    "    # 1. Load image from file as raw bytes\n",
    "    image = tf.io.read_file(image_path)\n",
    "\n",
    "    # 2. Decode image bytes into a uint8 tensor (JPEG with 3 channels)\n",
    "    image = tf.image.decode_jpeg(image, channels=3)\n",
    "\n",
    "    # 3. Convert uint8 pixel values [0, 255] to float32 [0.0, 1.0]\n",
    "    image = tf.image.convert_image_dtype(image, tf.float32)\n",
    "\n",
    "    # 4. Resize image to the target size\n",
    "    image = tf.image.resize(image, [img_height, img_width])\n",
    "\n",
    "    # 5. (Optional) Data augmentation - uncomment to enable\n",
    "    # image = tf.image.random_flip_left_right(image)\n",
    "    # image = tf.image.random_brightness(image, max_delta=0.1)\n",
    "    # image = tf.image.random_contrast(image, lower=0.9, upper=1.1)\n",
    "\n",
    "    # 6. (Optional) Normalize image with dataset-specific mean and std\n",
    "    # imagenet_mean = tf.constant([0.485, 0.456, 0.406])\n",
    "    # imagenet_std = tf.constant([0.229, 0.224, 0.225])\n",
    "    # image = (image - imagenet_mean) / imagenet_std\n",
    "\n",
    "    return image\n",
    "```\n",
    "\n",
    "</details>\n",
    "\n",
    "---\n",
    "\n",
    "<details>\n",
    "<summary><b>Explanation of Each Step</b></summary>\n",
    "\n",
    "| Step | What it does                                                        | Why it’s important                                        |\n",
    "| ---- | ------------------------------------------------------------------- | --------------------------------------------------------- |\n",
    "| 1    | Reads the image file from disk as raw bytes                         | Necessary to load image data                              |\n",
    "| 2    | Decodes the image bytes into a tensor (uint8)                       | Converts bytes to an image tensor                         |\n",
    "| 3    | Converts pixel values from `[0, 255]` uint8 to `[0.0, 1.0]` float32 | Neural networks work better with normalized inputs        |\n",
    "| 4    | Resizes image to fixed dimensions (e.g., 224x224)                   | Most models require fixed input sizes                     |\n",
    "| 5    | Optional augmentation (flip, brightness, contrast)                  | Helps prevent overfitting by increasing data diversity    |\n",
    "| 6    | Optional normalization to zero-mean and unit-variance               | Required by many pretrained models for better performance |\n",
    "\n",
    "</details>\n",
    "\n",
    "---\n",
    "\n",
    "<details>\n",
    "<summary><b>Usage Example</b></summary>\n",
    "\n",
    "```python\n",
    "image_tensor = preprocess_image(\"path/to/image.jpg\", 224, 224)\n",
    "\n",
    "# Add batch dimension for feeding into model (batch_size=1)\n",
    "image_batch = tf.expand_dims(image_tensor, axis=0)\n",
    "print(image_batch.shape)  # (1, 224, 224, 3)\n",
    "```\n",
    "\n",
    "</details>\n",
    "\n",
    "---\n",
    "\n",
    "<details>\n",
    "<summary><b>Additional Notes</b></summary>\n",
    "\n",
    "* Use the appropriate decode function for your image format:\n",
    "\n",
    "  * `tf.image.decode_jpeg()` for JPEG images\n",
    "  * `tf.image.decode_png()` for PNG images\n",
    "\n",
    "* When enabling normalization (step 6), use the correct means/std for your dataset or pretrained model.\n",
    "\n",
    "* Data augmentation (step 5) is typically used during **training only**, not during validation/testing.\n",
    "\n",
    "---\n",
    "\n",
    "If you want, I can also help you **expand this into a full TensorFlow data pipeline** or add **more advanced augmentations**!\n",
    "\n",
    "</details>\n",
    "\n",
    "---\n"
   ],
   "id": "4f480769d47bfaa4"
  },
  {
   "metadata": {
    "ExecuteTime": {
     "end_time": "2025-09-29T05:46:32.304329Z",
     "start_time": "2025-09-29T05:46:32.224376Z"
    }
   },
   "cell_type": "code",
   "outputs": [
    {
     "data": {
      "text/plain": [
       "<matplotlib.image.AxesImage at 0x745e5656e8d0>"
      ]
     },
     "execution_count": 180,
     "metadata": {},
     "output_type": "execute_result"
    },
    {
     "data": {
      "text/plain": [
       "<Figure size 640x480 with 1 Axes>"
      ],
      "image/png": "[encoded data removed]"
     },
     "metadata": {},
     "output_type": "display_data",
     "jetTransient": {
      "display_id": null
     }
    }
   ],
   "execution_count": 180,
   "source": "plt.imshow(preprocess(\"data/anchor/f7af0b15-9cd9-11f0-8bf0-581122864d18.jpg\"))",
   "id": "d9bfed03cb679dfd"
  },
  {
   "metadata": {},
   "cell_type": "markdown",
   "source": "### 3.3 Create Labelled Dataset",
   "id": "a9f0f0f66b86dbfb"
  },
  {
   "metadata": {
    "ExecuteTime": {
     "end_time": "2025-09-29T05:46:33.933218Z",
     "start_time": "2025-09-29T05:46:33.925734Z"
    }
   },
   "cell_type": "code",
   "outputs": [],
   "execution_count": 181,
   "source": [
    "positives = tf.data.Dataset.zip((anchor, positive, tf.data.Dataset.from_tensor_slices(tf.ones(len(anchor)))))\n",
    "negatives = tf.data.Dataset.zip((anchor, negative, tf.data.Dataset.from_tensor_slices(tf.zeros(len(anchor)))))\n",
    "data = positives.concatenate(negatives)"
   ],
   "id": "9d12adc3857b57d5"
  },
  {
   "metadata": {
    "ExecuteTime": {
     "end_time": "2025-09-29T05:46:34.277846Z",
     "start_time": "2025-09-29T05:46:34.275758Z"
    }
   },
   "cell_type": "code",
   "outputs": [
    {
     "data": {
      "text/plain": [
       "<_ConcatenateDataset element_spec=(TensorSpec(shape=(), dtype=tf.string, name=None), TensorSpec(shape=(), dtype=tf.string, name=None), TensorSpec(shape=(), dtype=tf.float32, name=None))>"
      ]
     },
     "execution_count": 182,
     "metadata": {},
     "output_type": "execute_result"
    }
   ],
   "execution_count": 182,
   "source": "data",
   "id": "4df8ae0b824af265"
  },
  {
   "metadata": {
    "ExecuteTime": {
     "end_time": "2025-09-29T05:46:34.498219Z",
     "start_time": "2025-09-29T05:46:34.458615Z"
    }
   },
   "cell_type": "code",
   "outputs": [
    {
     "name": "stdout",
     "output_type": "stream",
     "text": [
      "Negative sample found: (b'data/anchor/f0e5e6f5-9cd9-11f0-82b1-581122864d18.jpg', b'data/negative/Dennis_Hastert_0006.jpg', np.float32(0.0))\n"
     ]
    }
   ],
   "execution_count": 183,
   "source": [
    "# check the samples are exist or not\n",
    "samples_next = data.as_numpy_iterator()\n",
    "\n",
    "for sample in samples_next:\n",
    "    label = sample[2]\n",
    "    if label == 0.0:\n",
    "        print(\"Negative sample found:\", sample)\n",
    "        break\n",
    "else:\n",
    "    print(\"No negative samples found\")\n"
   ],
   "id": "1083a335458e334b"
  },
  {
   "metadata": {
    "ExecuteTime": {
     "end_time": "2025-09-29T05:46:34.579782Z",
     "start_time": "2025-09-29T05:46:34.576556Z"
    }
   },
   "cell_type": "code",
   "outputs": [],
   "execution_count": 184,
   "source": "samples = data.as_numpy_iterator()",
   "id": "bf9aca1fcc307c76"
  },
  {
   "metadata": {
    "ExecuteTime": {
     "end_time": "2025-09-29T05:46:37.067693Z",
     "start_time": "2025-09-29T05:46:37.064877Z"
    }
   },
   "cell_type": "code",
   "outputs": [],
   "execution_count": 185,
   "source": "examples = samples.next()",
   "id": "1b5aeb3a5fc82a90"
  },
  {
   "metadata": {},
   "cell_type": "markdown",
   "source": "### 3.4 Build Train and Test partition",
   "id": "c6d7b8442bf4c072"
  },
  {
   "metadata": {
    "ExecuteTime": {
     "end_time": "2025-09-29T05:49:45.247560Z",
     "start_time": "2025-09-29T05:49:45.245850Z"
    }
   },
   "cell_type": "code",
   "outputs": [],
   "execution_count": 190,
   "source": [
    "def preprocess_twin(input_img, validation_img, label):\n",
    "    return (preprocess(input_img), preprocess(validation_img), label)"
   ],
   "id": "aec83b43788e185e"
  },
  {
   "metadata": {
    "ExecuteTime": {
     "end_time": "2025-09-29T05:49:45.501196Z",
     "start_time": "2025-09-29T05:49:45.480016Z"
    }
   },
   "cell_type": "code",
   "outputs": [],
   "execution_count": 191,
   "source": "res = preprocess_twin(*examples)",
   "id": "f8956623384ddae1"
  },
  {
   "metadata": {
    "ExecuteTime": {
     "end_time": "2025-09-29T05:49:45.801908Z",
     "start_time": "2025-09-29T05:49:45.685697Z"
    }
   },
   "cell_type": "code",
   "outputs": [
    {
     "ename": "TypeError",
     "evalue": "Invalid shape () for image data",
     "output_type": "error",
     "traceback": [
      "\u001B[31m---------------------------------------------------------------------------\u001B[39m",
      "\u001B[31mTypeError\u001B[39m                                 Traceback (most recent call last)",
      "\u001B[36mCell\u001B[39m\u001B[36m \u001B[39m\u001B[32mIn[192]\u001B[39m\u001B[32m, line 1\u001B[39m\n\u001B[32m----> \u001B[39m\u001B[32m1\u001B[39m \u001B[43mplt\u001B[49m\u001B[43m.\u001B[49m\u001B[43mimshow\u001B[49m\u001B[43m(\u001B[49m\u001B[43mres\u001B[49m\u001B[43m[\u001B[49m\u001B[32;43m2\u001B[39;49m\u001B[43m]\u001B[49m\u001B[43m)\u001B[49m\n",
      "\u001B[36mFile \u001B[39m\u001B[32m~/Study/pyhton_3_12_env/.venv/lib/python3.12/site-packages/matplotlib/pyplot.py:3601\u001B[39m, in \u001B[36mimshow\u001B[39m\u001B[34m(X, cmap, norm, aspect, interpolation, alpha, vmin, vmax, colorizer, origin, extent, interpolation_stage, filternorm, filterrad, resample, url, data, **kwargs)\u001B[39m\n\u001B[32m   3579\u001B[39m \u001B[38;5;129m@_copy_docstring_and_deprecators\u001B[39m(Axes.imshow)\n\u001B[32m   3580\u001B[39m \u001B[38;5;28;01mdef\u001B[39;00m\u001B[38;5;250m \u001B[39m\u001B[34mimshow\u001B[39m(\n\u001B[32m   3581\u001B[39m     X: ArrayLike | PIL.Image.Image,\n\u001B[32m   (...)\u001B[39m\u001B[32m   3599\u001B[39m     **kwargs,\n\u001B[32m   3600\u001B[39m ) -> AxesImage:\n\u001B[32m-> \u001B[39m\u001B[32m3601\u001B[39m     __ret = \u001B[43mgca\u001B[49m\u001B[43m(\u001B[49m\u001B[43m)\u001B[49m\u001B[43m.\u001B[49m\u001B[43mimshow\u001B[49m\u001B[43m(\u001B[49m\n\u001B[32m   3602\u001B[39m \u001B[43m        \u001B[49m\u001B[43mX\u001B[49m\u001B[43m,\u001B[49m\n\u001B[32m   3603\u001B[39m \u001B[43m        \u001B[49m\u001B[43mcmap\u001B[49m\u001B[43m=\u001B[49m\u001B[43mcmap\u001B[49m\u001B[43m,\u001B[49m\n\u001B[32m   3604\u001B[39m \u001B[43m        \u001B[49m\u001B[43mnorm\u001B[49m\u001B[43m=\u001B[49m\u001B[43mnorm\u001B[49m\u001B[43m,\u001B[49m\n\u001B[32m   3605\u001B[39m \u001B[43m        \u001B[49m\u001B[43maspect\u001B[49m\u001B[43m=\u001B[49m\u001B[43maspect\u001B[49m\u001B[43m,\u001B[49m\n\u001B[32m   3606\u001B[39m \u001B[43m        \u001B[49m\u001B[43minterpolation\u001B[49m\u001B[43m=\u001B[49m\u001B[43minterpolation\u001B[49m\u001B[43m,\u001B[49m\n\u001B[32m   3607\u001B[39m \u001B[43m        \u001B[49m\u001B[43malpha\u001B[49m\u001B[43m=\u001B[49m\u001B[43malpha\u001B[49m\u001B[43m,\u001B[49m\n\u001B[32m   3608\u001B[39m \u001B[43m        \u001B[49m\u001B[43mvmin\u001B[49m\u001B[43m=\u001B[49m\u001B[43mvmin\u001B[49m\u001B[43m,\u001B[49m\n\u001B[32m   3609\u001B[39m \u001B[43m        \u001B[49m\u001B[43mvmax\u001B[49m\u001B[43m=\u001B[49m\u001B[43mvmax\u001B[49m\u001B[43m,\u001B[49m\n\u001B[32m   3610\u001B[39m \u001B[43m        \u001B[49m\u001B[43mcolorizer\u001B[49m\u001B[43m=\u001B[49m\u001B[43mcolorizer\u001B[49m\u001B[43m,\u001B[49m\n\u001B[32m   3611\u001B[39m \u001B[43m        \u001B[49m\u001B[43morigin\u001B[49m\u001B[43m=\u001B[49m\u001B[43morigin\u001B[49m\u001B[43m,\u001B[49m\n\u001B[32m   3612\u001B[39m \u001B[43m        \u001B[49m\u001B[43mextent\u001B[49m\u001B[43m=\u001B[49m\u001B[43mextent\u001B[49m\u001B[43m,\u001B[49m\n\u001B[32m   3613\u001B[39m \u001B[43m        \u001B[49m\u001B[43minterpolation_stage\u001B[49m\u001B[43m=\u001B[49m\u001B[43minterpolation_stage\u001B[49m\u001B[43m,\u001B[49m\n\u001B[32m   3614\u001B[39m \u001B[43m        \u001B[49m\u001B[43mfilternorm\u001B[49m\u001B[43m=\u001B[49m\u001B[43mfilternorm\u001B[49m\u001B[43m,\u001B[49m\n\u001B[32m   3615\u001B[39m \u001B[43m        \u001B[49m\u001B[43mfilterrad\u001B[49m\u001B[43m=\u001B[49m\u001B[43mfilterrad\u001B[49m\u001B[43m,\u001B[49m\n\u001B[32m   3616\u001B[39m \u001B[43m        \u001B[49m\u001B[43mresample\u001B[49m\u001B[43m=\u001B[49m\u001B[43mresample\u001B[49m\u001B[43m,\u001B[49m\n\u001B[32m   3617\u001B[39m \u001B[43m        \u001B[49m\u001B[43murl\u001B[49m\u001B[43m=\u001B[49m\u001B[43murl\u001B[49m\u001B[43m,\u001B[49m\n\u001B[32m   3618\u001B[39m \u001B[43m        \u001B[49m\u001B[43m*\u001B[49m\u001B[43m*\u001B[49m\u001B[43m(\u001B[49m\u001B[43m{\u001B[49m\u001B[33;43m\"\u001B[39;49m\u001B[33;43mdata\u001B[39;49m\u001B[33;43m\"\u001B[39;49m\u001B[43m:\u001B[49m\u001B[43m \u001B[49m\u001B[43mdata\u001B[49m\u001B[43m}\u001B[49m\u001B[43m \u001B[49m\u001B[38;5;28;43;01mif\u001B[39;49;00m\u001B[43m \u001B[49m\u001B[43mdata\u001B[49m\u001B[43m \u001B[49m\u001B[38;5;129;43;01mis\u001B[39;49;00m\u001B[43m \u001B[49m\u001B[38;5;129;43;01mnot\u001B[39;49;00m\u001B[43m \u001B[49m\u001B[38;5;28;43;01mNone\u001B[39;49;00m\u001B[43m \u001B[49m\u001B[38;5;28;43;01melse\u001B[39;49;00m\u001B[43m \u001B[49m\u001B[43m{\u001B[49m\u001B[43m}\u001B[49m\u001B[43m)\u001B[49m\u001B[43m,\u001B[49m\n\u001B[32m   3619\u001B[39m \u001B[43m        \u001B[49m\u001B[43m*\u001B[49m\u001B[43m*\u001B[49m\u001B[43mkwargs\u001B[49m\u001B[43m,\u001B[49m\n\u001B[32m   3620\u001B[39m \u001B[43m    \u001B[49m\u001B[43m)\u001B[49m\n\u001B[32m   3621\u001B[39m     sci(__ret)\n\u001B[32m   3622\u001B[39m     \u001B[38;5;28;01mreturn\u001B[39;00m __ret\n",
      "\u001B[36mFile \u001B[39m\u001B[32m~/Study/pyhton_3_12_env/.venv/lib/python3.12/site-packages/matplotlib/__init__.py:1524\u001B[39m, in \u001B[36m_preprocess_data.<locals>.inner\u001B[39m\u001B[34m(ax, data, *args, **kwargs)\u001B[39m\n\u001B[32m   1521\u001B[39m \u001B[38;5;129m@functools\u001B[39m.wraps(func)\n\u001B[32m   1522\u001B[39m \u001B[38;5;28;01mdef\u001B[39;00m\u001B[38;5;250m \u001B[39m\u001B[34minner\u001B[39m(ax, *args, data=\u001B[38;5;28;01mNone\u001B[39;00m, **kwargs):\n\u001B[32m   1523\u001B[39m     \u001B[38;5;28;01mif\u001B[39;00m data \u001B[38;5;129;01mis\u001B[39;00m \u001B[38;5;28;01mNone\u001B[39;00m:\n\u001B[32m-> \u001B[39m\u001B[32m1524\u001B[39m         \u001B[38;5;28;01mreturn\u001B[39;00m \u001B[43mfunc\u001B[49m\u001B[43m(\u001B[49m\n\u001B[32m   1525\u001B[39m \u001B[43m            \u001B[49m\u001B[43max\u001B[49m\u001B[43m,\u001B[49m\n\u001B[32m   1526\u001B[39m \u001B[43m            \u001B[49m\u001B[43m*\u001B[49m\u001B[38;5;28;43mmap\u001B[39;49m\u001B[43m(\u001B[49m\u001B[43mcbook\u001B[49m\u001B[43m.\u001B[49m\u001B[43msanitize_sequence\u001B[49m\u001B[43m,\u001B[49m\u001B[43m \u001B[49m\u001B[43margs\u001B[49m\u001B[43m)\u001B[49m\u001B[43m,\u001B[49m\n\u001B[32m   1527\u001B[39m \u001B[43m            \u001B[49m\u001B[43m*\u001B[49m\u001B[43m*\u001B[49m\u001B[43m{\u001B[49m\u001B[43mk\u001B[49m\u001B[43m:\u001B[49m\u001B[43m \u001B[49m\u001B[43mcbook\u001B[49m\u001B[43m.\u001B[49m\u001B[43msanitize_sequence\u001B[49m\u001B[43m(\u001B[49m\u001B[43mv\u001B[49m\u001B[43m)\u001B[49m\u001B[43m \u001B[49m\u001B[38;5;28;43;01mfor\u001B[39;49;00m\u001B[43m \u001B[49m\u001B[43mk\u001B[49m\u001B[43m,\u001B[49m\u001B[43m \u001B[49m\u001B[43mv\u001B[49m\u001B[43m \u001B[49m\u001B[38;5;129;43;01min\u001B[39;49;00m\u001B[43m \u001B[49m\u001B[43mkwargs\u001B[49m\u001B[43m.\u001B[49m\u001B[43mitems\u001B[49m\u001B[43m(\u001B[49m\u001B[43m)\u001B[49m\u001B[43m}\u001B[49m\u001B[43m)\u001B[49m\n\u001B[32m   1529\u001B[39m     bound = new_sig.bind(ax, *args, **kwargs)\n\u001B[32m   1530\u001B[39m     auto_label = (bound.arguments.get(label_namer)\n\u001B[32m   1531\u001B[39m                   \u001B[38;5;129;01mor\u001B[39;00m bound.kwargs.get(label_namer))\n",
      "\u001B[36mFile \u001B[39m\u001B[32m~/Study/pyhton_3_12_env/.venv/lib/python3.12/site-packages/matplotlib/axes/_axes.py:5982\u001B[39m, in \u001B[36mAxes.imshow\u001B[39m\u001B[34m(self, X, cmap, norm, aspect, interpolation, alpha, vmin, vmax, colorizer, origin, extent, interpolation_stage, filternorm, filterrad, resample, url, **kwargs)\u001B[39m\n\u001B[32m   5979\u001B[39m \u001B[38;5;28;01mif\u001B[39;00m aspect \u001B[38;5;129;01mis\u001B[39;00m \u001B[38;5;129;01mnot\u001B[39;00m \u001B[38;5;28;01mNone\u001B[39;00m:\n\u001B[32m   5980\u001B[39m     \u001B[38;5;28mself\u001B[39m.set_aspect(aspect)\n\u001B[32m-> \u001B[39m\u001B[32m5982\u001B[39m \u001B[43mim\u001B[49m\u001B[43m.\u001B[49m\u001B[43mset_data\u001B[49m\u001B[43m(\u001B[49m\u001B[43mX\u001B[49m\u001B[43m)\u001B[49m\n\u001B[32m   5983\u001B[39m im.set_alpha(alpha)\n\u001B[32m   5984\u001B[39m \u001B[38;5;28;01mif\u001B[39;00m im.get_clip_path() \u001B[38;5;129;01mis\u001B[39;00m \u001B[38;5;28;01mNone\u001B[39;00m:\n\u001B[32m   5985\u001B[39m     \u001B[38;5;66;03m# image does not already have clipping set, clip to Axes patch\u001B[39;00m\n",
      "\u001B[36mFile \u001B[39m\u001B[32m~/Study/pyhton_3_12_env/.venv/lib/python3.12/site-packages/matplotlib/image.py:685\u001B[39m, in \u001B[36m_ImageBase.set_data\u001B[39m\u001B[34m(self, A)\u001B[39m\n\u001B[32m    683\u001B[39m \u001B[38;5;28;01mif\u001B[39;00m \u001B[38;5;28misinstance\u001B[39m(A, PIL.Image.Image):\n\u001B[32m    684\u001B[39m     A = pil_to_array(A)  \u001B[38;5;66;03m# Needed e.g. to apply png palette.\u001B[39;00m\n\u001B[32m--> \u001B[39m\u001B[32m685\u001B[39m \u001B[38;5;28mself\u001B[39m._A = \u001B[38;5;28;43mself\u001B[39;49m\u001B[43m.\u001B[49m\u001B[43m_normalize_image_array\u001B[49m\u001B[43m(\u001B[49m\u001B[43mA\u001B[49m\u001B[43m)\u001B[49m\n\u001B[32m    686\u001B[39m \u001B[38;5;28mself\u001B[39m._imcache = \u001B[38;5;28;01mNone\u001B[39;00m\n\u001B[32m    687\u001B[39m \u001B[38;5;28mself\u001B[39m.stale = \u001B[38;5;28;01mTrue\u001B[39;00m\n",
      "\u001B[36mFile \u001B[39m\u001B[32m~/Study/pyhton_3_12_env/.venv/lib/python3.12/site-packages/matplotlib/image.py:653\u001B[39m, in \u001B[36m_ImageBase._normalize_image_array\u001B[39m\u001B[34m(A)\u001B[39m\n\u001B[32m    651\u001B[39m     A = A.squeeze(-\u001B[32m1\u001B[39m)  \u001B[38;5;66;03m# If just (M, N, 1), assume scalar and apply colormap.\u001B[39;00m\n\u001B[32m    652\u001B[39m \u001B[38;5;28;01mif\u001B[39;00m \u001B[38;5;129;01mnot\u001B[39;00m (A.ndim == \u001B[32m2\u001B[39m \u001B[38;5;129;01mor\u001B[39;00m A.ndim == \u001B[32m3\u001B[39m \u001B[38;5;129;01mand\u001B[39;00m A.shape[-\u001B[32m1\u001B[39m] \u001B[38;5;129;01min\u001B[39;00m [\u001B[32m3\u001B[39m, \u001B[32m4\u001B[39m]):\n\u001B[32m--> \u001B[39m\u001B[32m653\u001B[39m     \u001B[38;5;28;01mraise\u001B[39;00m \u001B[38;5;167;01mTypeError\u001B[39;00m(\u001B[33mf\u001B[39m\u001B[33m\"\u001B[39m\u001B[33mInvalid shape \u001B[39m\u001B[38;5;132;01m{\u001B[39;00mA.shape\u001B[38;5;132;01m}\u001B[39;00m\u001B[33m for image data\u001B[39m\u001B[33m\"\u001B[39m)\n\u001B[32m    654\u001B[39m \u001B[38;5;28;01mif\u001B[39;00m A.ndim == \u001B[32m3\u001B[39m:\n\u001B[32m    655\u001B[39m     \u001B[38;5;66;03m# If the input data has values outside the valid range (after\u001B[39;00m\n\u001B[32m    656\u001B[39m     \u001B[38;5;66;03m# normalisation), we issue a warning and then clip X to the bounds\u001B[39;00m\n\u001B[32m    657\u001B[39m     \u001B[38;5;66;03m# - otherwise casting wraps extreme values, hiding outliers and\u001B[39;00m\n\u001B[32m    658\u001B[39m     \u001B[38;5;66;03m# making reliable interpretation impossible.\u001B[39;00m\n\u001B[32m    659\u001B[39m     high = \u001B[32m255\u001B[39m \u001B[38;5;28;01mif\u001B[39;00m np.issubdtype(A.dtype, np.integer) \u001B[38;5;28;01melse\u001B[39;00m \u001B[32m1\u001B[39m\n",
      "\u001B[31mTypeError\u001B[39m: Invalid shape () for image data"
     ]
    },
    {
     "data": {
      "text/plain": [
       "<Figure size 640x480 with 1 Axes>"
      ],
      "image/png": "[encoded data removed]"
     },
     "metadata": {},
     "output_type": "display_data",
     "jetTransient": {
      "display_id": null
     }
    }
   ],
   "execution_count": 192,
   "source": "plt.imshow(res[2])",
   "id": "97af28ba0e90dd5d"
  }
 ],
 "metadata": {
  "kernelspec": {
   "display_name": "Python 3",
   "language": "python",
   "name": "python3"
  },
  "language_info": {
   "codemirror_mode": {
    "name": "ipython",
    "version": 2
   },
   "file_extension": ".py",
   "mimetype": "text/x-python",
   "name": "python",
   "nbconvert_exporter": "python",
   "pygments_lexer": "ipython2",
   "version": "2.7.6"
  }
 },
 "nbformat": 4,
 "nbformat_minor": 5
}
