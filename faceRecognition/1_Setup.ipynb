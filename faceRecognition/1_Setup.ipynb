{
 "cells": [
  {
   "metadata": {},
   "cell_type": "markdown",
   "source": "# 1. setup",
   "id": "8ee4cdb6fc55ee54"
  },
  {
   "metadata": {},
   "cell_type": "markdown",
   "source": "### 1.1 install dependencies (opencv,matplotlib,tensorflow,tensorflow[\"cuda\"])",
   "id": "ab681f3108db026"
  },
  {
   "metadata": {
    "collapsed": true,
    "ExecuteTime": {
     "end_time": "2025-09-29T05:35:58.745043Z",
     "start_time": "2025-09-29T05:35:58.738429Z"
    }
   },
   "cell_type": "code",
   "outputs": [
    {
     "name": "stdout",
     "output_type": "stream",
     "text": [
      "TensorFlow version: 2.20.0\n",
      "CUDA available: True\n",
      "GPU Name: NVIDIA GeForce RTX 3050 Laptop GPU\n"
     ]
    }
   ],
   "execution_count": 96,
   "source": [
    "from cProfile import label\n",
    "\n",
    "import tensorflow as tf\n",
    "from tensorflow.python.ops.image_ops_impl import ResizeMethod\n",
    "\n",
    "# Check TensorFlow version\n",
    "print(\"TensorFlow version:\", tf.__version__)\n",
    "\n",
    "# Check if GPU is available\n",
    "gpus = tf.config.list_physical_devices('GPU')\n",
    "\n",
    "if gpus:\n",
    "    name = tf.config.experimental.get_device_details(gpus[0]).get(\"device_name\", \"Unknown\")\n",
    "    print(\"CUDA available: True\")\n",
    "    print(\"GPU Name:\", name)\n",
    "else:\n",
    "    print(\"CUDA available: False\")\n",
    "    print(\"GPU: No GPU\")\n"
   ],
   "id": "857edca8b5cb098d"
  },
  {
   "metadata": {},
   "cell_type": "markdown",
   "source": "### 1.2 Import Dependencies",
   "id": "26fa0fb532e65469"
  },
  {
   "metadata": {
    "ExecuteTime": {
     "end_time": "2025-09-29T05:35:58.791499Z",
     "start_time": "2025-09-29T05:35:58.789780Z"
    }
   },
   "cell_type": "code",
   "outputs": [],
   "execution_count": 97,
   "source": [
    "# import standard dependencies\n",
    "import cv2\n",
    "import os\n",
    "import random\n",
    "import numpy as np\n",
    "import matplotlib.pyplot as plt"
   ],
   "id": "dd2014306b7a681c"
  },
  {
   "metadata": {
    "ExecuteTime": {
     "end_time": "2025-09-29T05:35:58.837778Z",
     "start_time": "2025-09-29T05:35:58.835834Z"
    }
   },
   "cell_type": "code",
   "outputs": [],
   "execution_count": 98,
   "source": [
    "# import tensorflow dependencies - Functional API\n",
    "from tensorflow.keras.models import Model  # Model(input = [inputImage,verificationImage],output = [1,0])\n",
    "from tensorflow.keras.layers import Layer, Conv2D, MaxPooling2D, Flatten, Dense, Input\n",
    "import tensorflow as tf"
   ],
   "id": "10ef1ac816f8eba"
  },
  {
   "metadata": {},
   "cell_type": "markdown",
   "source": [
    "### 📦 TensorFlow / Keras Functional API Components\n",
    "\n",
    "* **`tensorflow`** → Open-source deep learning framework for building and training neural networks.\n",
    "* **`tensorflow.keras`** → High-level API inside TensorFlow that simplifies building models.\n",
    "\n",
    "---\n",
    "\n",
    "### 🏗️ Model Building\n",
    "\n",
    "* **`Model`** → Used in the **Functional API** to define a model by specifying inputs and outputs (`Model(inputs, outputs)`).\n",
    "* **`Layer`** → Base class for all layers in Keras; custom layers can be built by inheriting from this.\n",
    "* **`Input`** → Defines the **input placeholder** (shape, dtype) for building models in the Functional API.\n",
    "\n",
    "---\n",
    "\n",
    "### 🔑 Common Layers\n",
    "\n",
    "* **`Conv2D`** → Convolutional layer for extracting spatial features (edges, textures, shapes) from images.\n",
    "* **`MaxPooling2D`** → Downsamples the feature map by taking the maximum value in each window → reduces size but keeps important info.\n",
    "* **`Flatten`** → Converts multi-dimensional feature maps into a **1D vector** (needed before Dense layers).\n",
    "* **`Dense`** → Fully connected layer where each neuron connects to all neurons in the previous layer.\n",
    "\n",
    "---\n",
    "\n",
    "### 💡 Example Flow\n",
    "\n",
    "`Input` → `Conv2D` → `MaxPooling2D` → `Flatten` → `Dense` → `Model(inputs, outputs)`\n"
   ],
   "id": "e0bfdef5d519aba"
  },
  {
   "metadata": {},
   "cell_type": "markdown",
   "source": [
    "## Layers\n",
    "\n",
    "* **\"Layer\"** → Like a stage in an assembly line. Each stage transforms the input a little.\n",
    "For example: raw metal → shaped car body → painted body → assembled car.\n",
    "\n",
    "* **\"Conv2D (Convolution Layer)\"** → Imagine a magnifying glass sliding over an image, detecting patterns like edges, shapes, or colors. For example, when you see a cat, you first notice whiskers, ears, fur patterns. Conv2D does this pattern-finding automatically.\n",
    "\n",
    "* **\"MaxPooling2D\"** → Like shrinking a photo but keeping only the most important parts. For example, if you take a big group photo and zoom out, you can’t see fine details, but you can still recognize faces. MaxPooling helps the model focus on the main features while reducing size.\n",
    "\n",
    "* **\"Flatten\"** → Imagine turning a page of Lego blocks into a single row of blocks. It just reshapes data into a line so it can be processed further. For example, a 2D grid of pixels (like a photo) becomes a 1D list.\n",
    "\n",
    "* **\"Dense (Fully Connected Layer)\"** → Like the decision-making brain. Every neuron here connects to every other neuron, combining all the extracted features. For example, after noticing “whiskers + ears + fur,” the Dense layer decides: “Yes, this is a Cat.”"
   ],
   "id": "ae58b74399de61cc"
  },
  {
   "metadata": {},
   "cell_type": "markdown",
   "source": "### 1.3 Set GPU Growth",
   "id": "78323b6686f0671e"
  },
  {
   "metadata": {
    "ExecuteTime": {
     "end_time": "2025-09-29T05:35:58.882439Z",
     "start_time": "2025-09-29T05:35:58.880623Z"
    }
   },
   "cell_type": "code",
   "outputs": [],
   "execution_count": 99,
   "source": [
    "# avoid OOM errors by setting GPU Memory Consumption Growth\n",
    "# Check if GPU is available - List all gpus\n",
    "gpus = tf.config.list_physical_devices('GPU')\n",
    "for gpu in gpus:\n",
    "    tf.config.experimental.set_memory_growth(gpu, True)"
   ],
   "id": "59817e2173ea5a68"
  },
  {
   "metadata": {},
   "cell_type": "markdown",
   "source": "### 1.4 Create Folder Structures",
   "id": "7e07d8fdc66b412c"
  },
  {
   "metadata": {
    "ExecuteTime": {
     "end_time": "2025-09-29T05:35:58.927643Z",
     "start_time": "2025-09-29T05:35:58.925946Z"
    }
   },
   "cell_type": "code",
   "outputs": [],
   "execution_count": 100,
   "source": [
    "# Setup Paths\n",
    "POS_PATH = os.path.join(\"data\", \"positive\")\n",
    "NEG_PATH = os.path.join(\"data\", \"negative\")\n",
    "ANC_PATH = os.path.join(\"data\", \"anchor\")"
   ],
   "id": "70ebee56f0dcaab0"
  },
  {
   "metadata": {
    "ExecuteTime": {
     "end_time": "2025-09-29T05:35:58.972758Z",
     "start_time": "2025-09-29T05:35:58.970586Z"
    }
   },
   "cell_type": "code",
   "outputs": [],
   "execution_count": 101,
   "source": [
    "# Make the Directories\n",
    "os.makedirs(POS_PATH, exist_ok=True)\n",
    "os.makedirs(NEG_PATH, exist_ok=True)\n",
    "os.makedirs(ANC_PATH, exist_ok=True)"
   ],
   "id": "45abe9238874223e"
  },
  {
   "metadata": {},
   "cell_type": "markdown",
   "source": [
    "### Python Directory Creation: os.mkdir() vs os.makedirs()\n",
    "\n",
    "#### Quick Comparison\n",
    "\n",
    "| Function | Use Case | Parent Directory Requirement | Error Handling |\n",
    "|----------|----------|------------------------------|----------------|\n",
    "| `os.mkdir()` | Single directory creation | Must exist | Fails if parents missing |\n",
    "| `os.makedirs()` | Nested directory creation | Created automatically | `exist_ok=True` for safety |\n",
    "\n",
    "\n",
    "#### Key Points\n",
    "- **mkdir()**: Simple, single directory, parents must exist\n",
    "- **makedirs()**: Complex paths, creates parents automatically\n",
    "- **exist_ok=True**: Prevents errors if directory exists (makedirs only)"
   ],
   "id": "926e11d1b30360f3"
  }
 ],
 "metadata": {
  "kernelspec": {
   "display_name": "Python 3",
   "language": "python",
   "name": "python3"
  },
  "language_info": {
   "codemirror_mode": {
    "name": "ipython",
    "version": 2
   },
   "file_extension": ".py",
   "mimetype": "text/x-python",
   "name": "python",
   "nbconvert_exporter": "python",
   "pygments_lexer": "ipython2",
   "version": "2.7.6"
  }
 },
 "nbformat": 4,
 "nbformat_minor": 5
}
