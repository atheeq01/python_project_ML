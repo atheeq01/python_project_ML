{
 "cells": [
  {
   "cell_type": "code",
   "id": "initial_id",
   "metadata": {
    "collapsed": true,
    "ExecuteTime": {
     "end_time": "2025-09-21T04:50:26.982107Z",
     "start_time": "2025-09-21T04:50:26.303239Z"
    }
   },
   "source": [
    "import shutil\n",
    "\n",
    "import kagglehub\n",
    "\n",
    "path = kagglehub.dataset_download(\"kolawale/focusing-on-mobile-app-or-website\")\n",
    "\n",
    "print(\"Path to dataset files:\", path)"
   ],
   "outputs": [
    {
     "name": "stdout",
     "output_type": "stream",
     "text": [
      "Path to dataset files: /home/breezy/.cache/kagglehub/datasets/kolawale/focusing-on-mobile-app-or-website/versions/1\n"
     ]
    }
   ],
   "execution_count": 5
  },
  {
   "metadata": {
    "ExecuteTime": {
     "end_time": "2025-09-21T05:01:37.045932Z",
     "start_time": "2025-09-21T05:01:37.042307Z"
    }
   },
   "cell_type": "code",
   "source": [
    "import os\n",
    "import shutil\n",
    "\n",
    "assets_path = os.path.join(os.getcwd(), \"assets\")\n",
    "\n",
    "for item in os.listdir(path):\n",
    "    source_file = os.path.join(path, item)\n",
    "    destination_file = os.path.join(assets_path, item)\n",
    "    if os.path.isdir(source_file):\n",
    "        shutil.copytree(source_file, destination_file,dirs_exist_ok=True)\n",
    "    else :\n",
    "        shutil.copy(source_file, destination_file)\n"
   ],
   "id": "4653303fac1f5252",
   "outputs": [],
   "execution_count": 8
  },
  {
   "metadata": {},
   "cell_type": "code",
   "outputs": [],
   "execution_count": null,
   "source": "",
   "id": "491f045322e5839c"
  }
 ],
 "metadata": {
  "kernelspec": {
   "display_name": "Python 3",
   "language": "python",
   "name": "python3"
  },
  "language_info": {
   "codemirror_mode": {
    "name": "ipython",
    "version": 2
   },
   "file_extension": ".py",
   "mimetype": "text/x-python",
   "name": "python",
   "nbconvert_exporter": "python",
   "pygments_lexer": "ipython2",
   "version": "2.7.6"
  }
 },
 "nbformat": 4,
 "nbformat_minor": 5
}
